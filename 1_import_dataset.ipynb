{
 "cells": [
  {
   "cell_type": "code",
   "execution_count": null,
   "id": "550e99e2",
   "metadata": {},
   "outputs": [],
   "source": [
    "#create a venv environment first (it has python 3.12 version and numpy version is >2 and dlib cp312)\n",
    "\n",
    "#Again created another version which has python 3.10.11 version and numpy 1.24.4 and dlib cp310\n",
    "#& \"C:\\Program Files\\Python310\\python.exe\" -m venv intelliguard-env\n",
    "\n",
    "#PS C:\\Users\\dhars\\Downloads\\Dhass\\codeing\\GUVI\\2. MainBoot\\4.Project_Code\\Final Project - 1\\Project6_Code\\Intelliguard_PPE_Detection> & \"C:\\Program Files\\Python310\\python.exe\" -m venv intelliguard-env"
   ]
  },
  {
   "cell_type": "code",
   "execution_count": 1,
   "id": "e2ec047e",
   "metadata": {},
   "outputs": [],
   "source": [
    "import shutil\n",
    "from pathlib import Path"
   ]
  },
  {
   "cell_type": "markdown",
   "id": "a71b75d6",
   "metadata": {},
   "source": [
    "*dataset path*"
   ]
  },
  {
   "cell_type": "code",
   "execution_count": 6,
   "id": "d0437df7",
   "metadata": {},
   "outputs": [],
   "source": [
    "# Source dataset path\n",
    "source = Path(\"C:/Users/dhars/Downloads/Dhass/codeing/GUVI/2. MainBoot/4.Project_Code/Final Project - 1/PPE_Images_dataset\")\n"
   ]
  },
  {
   "cell_type": "code",
   "execution_count": 7,
   "id": "c38ab917",
   "metadata": {},
   "outputs": [],
   "source": [
    "# Target project folder\n",
    "destination = Path(\"C:/Users/dhars/Downloads/Dhass/codeing/GUVI/2. MainBoot/4.Project_Code/Final Project - 1/Project6_Code/Intelliguard_PPE_Detection/PPE_Images_dataset\")\n"
   ]
  },
  {
   "cell_type": "code",
   "execution_count": 9,
   "id": "398b2f31",
   "metadata": {},
   "outputs": [
    {
     "name": "stdout",
     "output_type": "stream",
     "text": [
      "✅ Dataset copied to: C:\\Users\\dhars\\Downloads\\Dhass\\codeing\\GUVI\\2. MainBoot\\4.Project_Code\\Final Project - 1\\Project6_Code\\Intelliguard_PPE_Detection\\PPE_Images_dataset\n"
     ]
    }
   ],
   "source": [
    "# Copy entire folder tree\n",
    "if not destination.exists():\n",
    "    shutil.copytree(source, destination) #shutil.copy(src, dst) only copies a single file, not directories.    Use shutil.copytree() when-> want to copy an entire folder with all subfolders and files inside (e.g., your full dataset with train/, val/, test/).\n",
    "    print(f\"✅ Dataset copied to: {destination}\")\n",
    "else:\n",
    "    print(\"⚠️ Target folder already exists. Delete it manually or rename if needed.\")\n"
   ]
  }
 ],
 "metadata": {
  "kernelspec": {
   "display_name": ".venv",
   "language": "python",
   "name": "python3"
  },
  "language_info": {
   "codemirror_mode": {
    "name": "ipython",
    "version": 3
   },
   "file_extension": ".py",
   "mimetype": "text/x-python",
   "name": "python",
   "nbconvert_exporter": "python",
   "pygments_lexer": "ipython3",
   "version": "3.12.1"
  }
 },
 "nbformat": 4,
 "nbformat_minor": 5
}
